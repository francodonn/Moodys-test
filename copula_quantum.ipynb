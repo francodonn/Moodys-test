{
 "cells": [
  {
   "cell_type": "code",
   "execution_count": 1,
   "metadata": {},
   "outputs": [
    {
     "name": "stdout",
     "output_type": "stream",
     "text": [
      "Requirement already satisfied: qiskit in /usr/local/lib/python3.11/site-packages (0.45.2)\n",
      "Requirement already satisfied: qiskit-terra==0.45.2 in /usr/local/lib/python3.11/site-packages (from qiskit) (0.45.2)\n",
      "Requirement already satisfied: rustworkx>=0.13.0 in /usr/local/lib/python3.11/site-packages (from qiskit-terra==0.45.2->qiskit) (0.14.0)\n",
      "Requirement already satisfied: numpy<2,>=1.17 in /usr/local/lib/python3.11/site-packages (from qiskit-terra==0.45.2->qiskit) (1.25.2)\n",
      "Requirement already satisfied: ply>=3.10 in /usr/local/lib/python3.11/site-packages (from qiskit-terra==0.45.2->qiskit) (3.11)\n",
      "Requirement already satisfied: psutil>=5 in /usr/local/lib/python3.11/site-packages (from qiskit-terra==0.45.2->qiskit) (5.9.6)\n",
      "Requirement already satisfied: scipy>=1.5 in /usr/local/lib/python3.11/site-packages (from qiskit-terra==0.45.2->qiskit) (1.11.4)\n",
      "Requirement already satisfied: sympy>=1.3 in /usr/local/lib/python3.11/site-packages (from qiskit-terra==0.45.2->qiskit) (1.12)\n",
      "Requirement already satisfied: dill>=0.3 in /usr/local/lib/python3.11/site-packages (from qiskit-terra==0.45.2->qiskit) (0.3.1.1)\n",
      "Requirement already satisfied: python-dateutil>=2.8.0 in /usr/local/lib/python3.11/site-packages (from qiskit-terra==0.45.2->qiskit) (2.8.2)\n",
      "Requirement already satisfied: stevedore>=3.0.0 in /usr/local/lib/python3.11/site-packages (from qiskit-terra==0.45.2->qiskit) (5.1.0)\n",
      "Requirement already satisfied: symengine!=0.10.0,>=0.9 in /usr/local/lib/python3.11/site-packages (from qiskit-terra==0.45.2->qiskit) (0.11.0)\n",
      "Requirement already satisfied: six>=1.5 in /usr/local/lib/python3.11/site-packages (from python-dateutil>=2.8.0->qiskit-terra==0.45.2->qiskit) (1.16.0)\n",
      "Requirement already satisfied: pbr!=2.1.0,>=2.0.0 in /usr/local/lib/python3.11/site-packages (from stevedore>=3.0.0->qiskit-terra==0.45.2->qiskit) (6.0.0)\n",
      "Requirement already satisfied: mpmath>=0.19 in /usr/local/lib/python3.11/site-packages (from sympy>=1.3->qiskit-terra==0.45.2->qiskit) (1.3.0)\n",
      "\n",
      "\u001b[1m[\u001b[0m\u001b[34;49mnotice\u001b[0m\u001b[1;39;49m]\u001b[0m\u001b[39;49m A new release of pip is available: \u001b[0m\u001b[31;49m23.3.1\u001b[0m\u001b[39;49m -> \u001b[0m\u001b[32;49m24.0\u001b[0m\n",
      "\u001b[1m[\u001b[0m\u001b[34;49mnotice\u001b[0m\u001b[1;39;49m]\u001b[0m\u001b[39;49m To update, run: \u001b[0m\u001b[32;49mpython3.11 -m pip install --upgrade pip\u001b[0m\n",
      "Note: you may need to restart the kernel to use updated packages.\n"
     ]
    }
   ],
   "source": [
    "#qiskit 0.45.2\n",
    "pip install qiskit"
   ]
  },
  {
   "cell_type": "code",
   "execution_count": 65,
   "metadata": {},
   "outputs": [
    {
     "data": {
      "text/html": [
       "<pre style=\"word-wrap: normal;white-space: pre;background: #fff0;line-height: 1.1;font-family: &quot;Courier New&quot;,Courier,monospace\">     ┌───┐                              ┌─────┐\n",
       "q_0: ┤ H ├──■──────────────■────────────┤0    ├\n",
       "     ├───┤  │              │            │     │\n",
       "q_1: ┤ H ├──┼────■─────────┼────■───────┤1 U0 ├\n",
       "     ├───┤  │    │         │    │       │     │\n",
       "q_2: ┤ H ├──┼────┼────■────┼────┼────■──┤2    ├\n",
       "     └───┘┌─┴─┐  │    │    │    │    │  ├─────┤\n",
       "q_3: ─────┤ X ├──┼────┼────┼────┼────┼──┤0    ├\n",
       "          └───┘┌─┴─┐  │    │    │    │  │     │\n",
       "q_4: ──────────┤ X ├──┼────┼────┼────┼──┤1 U1 ├\n",
       "               └───┘┌─┴─┐  │    │    │  │     │\n",
       "q_5: ───────────────┤ X ├──┼────┼────┼──┤2    ├\n",
       "                    └───┘┌─┴─┐  │    │  ├─────┤\n",
       "q_6: ────────────────────┤ X ├──┼────┼──┤0    ├\n",
       "                         └───┘┌─┴─┐  │  │     │\n",
       "q_7: ─────────────────────────┤ X ├──┼──┤1 U2 ├\n",
       "                              └───┘┌─┴─┐│     │\n",
       "q_8: ──────────────────────────────┤ X ├┤2    ├\n",
       "                                   └───┘└─────┘</pre>"
      ],
      "text/plain": [
       "     ┌───┐                              ┌─────┐\n",
       "q_0: ┤ H ├──■──────────────■────────────┤0    ├\n",
       "     ├───┤  │              │            │     │\n",
       "q_1: ┤ H ├──┼────■─────────┼────■───────┤1 U0 ├\n",
       "     ├───┤  │    │         │    │       │     │\n",
       "q_2: ┤ H ├──┼────┼────■────┼────┼────■──┤2    ├\n",
       "     └───┘┌─┴─┐  │    │    │    │    │  ├─────┤\n",
       "q_3: ─────┤ X ├──┼────┼────┼────┼────┼──┤0    ├\n",
       "          └───┘┌─┴─┐  │    │    │    │  │     │\n",
       "q_4: ──────────┤ X ├──┼────┼────┼────┼──┤1 U1 ├\n",
       "               └───┘┌─┴─┐  │    │    │  │     │\n",
       "q_5: ───────────────┤ X ├──┼────┼────┼──┤2    ├\n",
       "                    └───┘┌─┴─┐  │    │  ├─────┤\n",
       "q_6: ────────────────────┤ X ├──┼────┼──┤0    ├\n",
       "                         └───┘┌─┴─┐  │  │     │\n",
       "q_7: ─────────────────────────┤ X ├──┼──┤1 U2 ├\n",
       "                              └───┘┌─┴─┐│     │\n",
       "q_8: ──────────────────────────────┤ X ├┤2    ├\n",
       "                                   └───┘└─────┘"
      ]
     },
     "execution_count": 65,
     "metadata": {},
     "output_type": "execute_result"
    }
   ],
   "source": [
    "from qiskit import QuantumCircuit, BasicAer, transpile\n",
    "\n",
    "def get_qcbm_circuit(n: int, m: int, layers: int, parameters: list) -> QuantumCircuit:\n",
    "    \"\"\"\n",
    "    n: amount of variables\n",
    "    m: qubits per variable\n",
    "    layers: amount of unitary transformation layers\n",
    "    parameters: the parameters of the unitary transformation to be optimized \n",
    "    For simplicity, all unitary gate use the same parameters. Witone parameter for the RZ agte, another for the RX and all RZZ gates using the same theta.\n",
    "    Each variable should use their own parameters in the future\n",
    "\n",
    "    returns: qiskit QuantumCircuit object, sample of unitary transformation circuit\n",
    "    \"\"\"\n",
    "    qc = QuantumCircuit(n*m, name=\"QCBM\")\n",
    "    \n",
    "    # H on the qubits of the first variable\n",
    "    qc.h(range(0, m)) \n",
    "\n",
    "    # CNOT using variable 1 qubit's as control on all the qubits of the other variables\n",
    "    for i in range(1, n):\n",
    "        for j in range(0, m):\n",
    "            qc.cx(j, i*m+j) # control is the qubit on variable 1, target is the qubit on the variable i\n",
    "            \n",
    "    # Build Ui for each variable\n",
    "    for i in range(0, n):\n",
    "        qc_u = QuantumCircuit(m, name=f\"U{i}\")\n",
    "        for j in range(0, m):\n",
    "            qc_u.rz(parameters[0][j], j)\n",
    "            qc_u.rx(parameters[1][j], j)\n",
    "        \n",
    "        for j in range(0, m-1):\n",
    "            qc_u.rzz(parameters[2][j], j, j + 1)\n",
    "        \n",
    "        qc.compose(qc_u, range(i*m, i*m+m), inplace=True, wrap=True)\n",
    "\n",
    "    return qc, qc_u\n",
    "\n",
    "qc, qc_u = get_qcbm_circuit(3, 3, 1, [[1,1,1], [1,1,1], [1,1]])\n",
    "qc.draw()\n"
   ]
  },
  {
   "cell_type": "code",
   "execution_count": 66,
   "metadata": {},
   "outputs": [
    {
     "data": {
      "text/html": [
       "<pre style=\"word-wrap: normal;white-space: pre;background: #fff0;line-height: 1.1;font-family: &quot;Courier New&quot;,Courier,monospace\">        ┌───┐                              ┌─────┐ ░ ┌─┐                     »\n",
       "   q_0: ┤ H ├──■──────────────■────────────┤0    ├─░─┤M├─────────────────────»\n",
       "        ├───┤  │              │            │     │ ░ └╥┘┌─┐                  »\n",
       "   q_1: ┤ H ├──┼────■─────────┼────■───────┤1 U0 ├─░──╫─┤M├──────────────────»\n",
       "        ├───┤  │    │         │    │       │     │ ░  ║ └╥┘┌─┐               »\n",
       "   q_2: ┤ H ├──┼────┼────■────┼────┼────■──┤2    ├─░──╫──╫─┤M├───────────────»\n",
       "        └───┘┌─┴─┐  │    │    │    │    │  ├─────┤ ░  ║  ║ └╥┘┌─┐            »\n",
       "   q_3: ─────┤ X ├──┼────┼────┼────┼────┼──┤0    ├─░──╫──╫──╫─┤M├────────────»\n",
       "             └───┘┌─┴─┐  │    │    │    │  │     │ ░  ║  ║  ║ └╥┘┌─┐         »\n",
       "   q_4: ──────────┤ X ├──┼────┼────┼────┼──┤1 U1 ├─░──╫──╫──╫──╫─┤M├─────────»\n",
       "                  └───┘┌─┴─┐  │    │    │  │     │ ░  ║  ║  ║  ║ └╥┘┌─┐      »\n",
       "   q_5: ───────────────┤ X ├──┼────┼────┼──┤2    ├─░──╫──╫──╫──╫──╫─┤M├──────»\n",
       "                       └───┘┌─┴─┐  │    │  ├─────┤ ░  ║  ║  ║  ║  ║ └╥┘┌─┐   »\n",
       "   q_6: ────────────────────┤ X ├──┼────┼──┤0    ├─░──╫──╫──╫──╫──╫──╫─┤M├───»\n",
       "                            └───┘┌─┴─┐  │  │     │ ░  ║  ║  ║  ║  ║  ║ └╥┘┌─┐»\n",
       "   q_7: ─────────────────────────┤ X ├──┼──┤1 U2 ├─░──╫──╫──╫──╫──╫──╫──╫─┤M├»\n",
       "                                 └───┘┌─┴─┐│     │ ░  ║  ║  ║  ║  ║  ║  ║ └╥┘»\n",
       "   q_8: ──────────────────────────────┤ X ├┤2    ├─░──╫──╫──╫──╫──╫──╫──╫──╫─»\n",
       "                                      └───┘└─────┘ ░  ║  ║  ║  ║  ║  ║  ║  ║ »\n",
       "meas: 9/══════════════════════════════════════════════╩══╩══╩══╩══╩══╩══╩══╩═»\n",
       "                                                      0  1  2  3  4  5  6  7 »\n",
       "«           \n",
       "«   q_0: ───\n",
       "«           \n",
       "«   q_1: ───\n",
       "«           \n",
       "«   q_2: ───\n",
       "«           \n",
       "«   q_3: ───\n",
       "«           \n",
       "«   q_4: ───\n",
       "«           \n",
       "«   q_5: ───\n",
       "«           \n",
       "«   q_6: ───\n",
       "«           \n",
       "«   q_7: ───\n",
       "«        ┌─┐\n",
       "«   q_8: ┤M├\n",
       "«        └╥┘\n",
       "«meas: 9/═╩═\n",
       "«         8 </pre>"
      ],
      "text/plain": [
       "        ┌───┐                              ┌─────┐ ░ ┌─┐                     »\n",
       "   q_0: ┤ H ├──■──────────────■────────────┤0    ├─░─┤M├─────────────────────»\n",
       "        ├───┤  │              │            │     │ ░ └╥┘┌─┐                  »\n",
       "   q_1: ┤ H ├──┼────■─────────┼────■───────┤1 U0 ├─░──╫─┤M├──────────────────»\n",
       "        ├───┤  │    │         │    │       │     │ ░  ║ └╥┘┌─┐               »\n",
       "   q_2: ┤ H ├──┼────┼────■────┼────┼────■──┤2    ├─░──╫──╫─┤M├───────────────»\n",
       "        └───┘┌─┴─┐  │    │    │    │    │  ├─────┤ ░  ║  ║ └╥┘┌─┐            »\n",
       "   q_3: ─────┤ X ├──┼────┼────┼────┼────┼──┤0    ├─░──╫──╫──╫─┤M├────────────»\n",
       "             └───┘┌─┴─┐  │    │    │    │  │     │ ░  ║  ║  ║ └╥┘┌─┐         »\n",
       "   q_4: ──────────┤ X ├──┼────┼────┼────┼──┤1 U1 ├─░──╫──╫──╫──╫─┤M├─────────»\n",
       "                  └───┘┌─┴─┐  │    │    │  │     │ ░  ║  ║  ║  ║ └╥┘┌─┐      »\n",
       "   q_5: ───────────────┤ X ├──┼────┼────┼──┤2    ├─░──╫──╫──╫──╫──╫─┤M├──────»\n",
       "                       └───┘┌─┴─┐  │    │  ├─────┤ ░  ║  ║  ║  ║  ║ └╥┘┌─┐   »\n",
       "   q_6: ────────────────────┤ X ├──┼────┼──┤0    ├─░──╫──╫──╫──╫──╫──╫─┤M├───»\n",
       "                            └───┘┌─┴─┐  │  │     │ ░  ║  ║  ║  ║  ║  ║ └╥┘┌─┐»\n",
       "   q_7: ─────────────────────────┤ X ├──┼──┤1 U2 ├─░──╫──╫──╫──╫──╫──╫──╫─┤M├»\n",
       "                                 └───┘┌─┴─┐│     │ ░  ║  ║  ║  ║  ║  ║  ║ └╥┘»\n",
       "   q_8: ──────────────────────────────┤ X ├┤2    ├─░──╫──╫──╫──╫──╫──╫──╫──╫─»\n",
       "                                      └───┘└─────┘ ░  ║  ║  ║  ║  ║  ║  ║  ║ »\n",
       "meas: 9/══════════════════════════════════════════════╩══╩══╩══╩══╩══╩══╩══╩═»\n",
       "                                                      0  1  2  3  4  5  6  7 »\n",
       "«           \n",
       "«   q_0: ───\n",
       "«           \n",
       "«   q_1: ───\n",
       "«           \n",
       "«   q_2: ───\n",
       "«           \n",
       "«   q_3: ───\n",
       "«           \n",
       "«   q_4: ───\n",
       "«           \n",
       "«   q_5: ───\n",
       "«           \n",
       "«   q_6: ───\n",
       "«           \n",
       "«   q_7: ───\n",
       "«        ┌─┐\n",
       "«   q_8: ┤M├\n",
       "«        └╥┘\n",
       "«meas: 9/═╩═\n",
       "«         8 "
      ]
     },
     "execution_count": 66,
     "metadata": {},
     "output_type": "execute_result"
    }
   ],
   "source": [
    "qc.measure_all()\n",
    "qc.draw()"
   ]
  },
  {
   "cell_type": "code",
   "execution_count": 26,
   "metadata": {},
   "outputs": [
    {
     "data": {
      "text/html": [
       "<pre style=\"word-wrap: normal;white-space: pre;background: #fff0;line-height: 1.1;font-family: &quot;Courier New&quot;,Courier,monospace\">     ┌───────┐┌───────┐                \n",
       "q_0: ┤ Rz(1) ├┤ Rx(1) ├─■──────────────\n",
       "     ├───────┤├───────┤ │ZZ(1)         \n",
       "q_1: ┤ Rz(1) ├┤ Rx(1) ├─■───────■──────\n",
       "     ├───────┤├───────┤         │ZZ(1) \n",
       "q_2: ┤ Rz(1) ├┤ Rx(1) ├─────────■──────\n",
       "     └───────┘└───────┘                </pre>"
      ],
      "text/plain": [
       "     ┌───────┐┌───────┐                \n",
       "q_0: ┤ Rz(1) ├┤ Rx(1) ├─■──────────────\n",
       "     ├───────┤├───────┤ │ZZ(1)         \n",
       "q_1: ┤ Rz(1) ├┤ Rx(1) ├─■───────■──────\n",
       "     ├───────┤├───────┤         │ZZ(1) \n",
       "q_2: ┤ Rz(1) ├┤ Rx(1) ├─────────■──────\n",
       "     └───────┘└───────┘                "
      ]
     },
     "execution_count": 26,
     "metadata": {},
     "output_type": "execute_result"
    }
   ],
   "source": [
    "# Unitary circuit\n",
    "qc_u.draw()"
   ]
  },
  {
   "cell_type": "markdown",
   "metadata": {},
   "source": [
    "## Create random probability distribution to test the circuit"
   ]
  },
  {
   "cell_type": "code",
   "execution_count": 31,
   "metadata": {},
   "outputs": [
    {
     "data": {
      "image/png": "[encoded data removed]",
      "text/plain": [
       "<Figure size 640x480 with 1 Axes>"
      ]
     },
     "metadata": {},
     "output_type": "display_data"
    }
   ],
   "source": [
    "import numpy as np\n",
    "import matplotlib.pyplot as plt\n",
    "\n",
    "def plot_probability_distribution(probability_distribution, title='Probability distribution'):\n",
    "    _, ax = plt.subplots()\n",
    "    \n",
    "    labels = [str(i) for i in range(len(probability_distribution))]\n",
    "    ax.bar(labels, probability_distribution, color='#347deb', align='center')\n",
    "    \n",
    "    ax.set_title(title)\n",
    "    ax.set_xlabel('Label')\n",
    "    ax.set_ylabel('Probability')\n",
    "    ax.set_ylim(0, 1)\n"
   ]
  },
  {
   "cell_type": "code",
   "execution_count": 72,
   "metadata": {},
   "outputs": [
    {
     "name": "stdout",
     "output_type": "stream",
     "text": [
      "CPU times: user 16.3 ms, sys: 420 µs, total: 16.8 ms\n",
      "Wall time: 20.1 ms\n"
     ]
    },
    {
     "data": {
      "image/png": "[encoded data removed]",
      "text/plain": [
       "<Figure size 640x480 with 1 Axes>"
      ]
     },
     "metadata": {},
     "output_type": "display_data"
    }
   ],
   "source": [
    "def measure_probability_distribution(parameters, backend, num_variables, num_qubits, num_shots=1024):\n",
    "    \"\"\"\n",
    "    Sets up the quantum circuit with the given parameters, runs the experiment, and transforms the\n",
    "    results measured from the experiment into a probability distribution.\n",
    "    \n",
    "    :param parameters: List of parameters that will be used when defining the circuit.\n",
    "    :param num_shots: Number of times that the quantum algorithm will be executed.\n",
    "    :return: The probability distribution vector associated to the results received from the quantum\n",
    "        experiment. E.g.: [0.1329, 0.5671, 0.1000, 0.2000].\n",
    "    \"\"\"\n",
    "    \n",
    "    # Obtain a quantum circuit instance from the parameters\n",
    "    circuit, _ = get_qcbm_circuit(n=num_variables, m=num_qubits, layers=1, parameters=parameters)\n",
    "    circuit.measure_all()\n",
    "\n",
    "    # Transpile the quantum circuit to map the topology of the backend.\n",
    "    transpiled_circuit = transpile(circuit, backend)\n",
    "    \n",
    "    # Deliver the job to the vendor and get the identifier of that job back.\n",
    "    # The circuit will be run for a given number of executions (shots).\n",
    "    # We could now work on other tasks while the job gets executed remotely, or in the background -locally-.\n",
    "    job = backend.run(transpiled_circuit, shots=num_shots)\n",
    "    \n",
    "    # Wait for the results to be ready, and obtain the probability distribution associated with the current\n",
    "    # parameters\n",
    "    result = job.result()\n",
    "\n",
    "    # Obtain the counts for each measured state, and convert those counts into a probability vector\n",
    "    total_qubits = num_qubits*num_variables\n",
    "    counts = result.get_counts()\n",
    "    length_string = len('{0:b}'.format(2**total_qubits - 1))\n",
    "    for i in range(2**total_qubits):\n",
    "        binary_label = '{0:b}'.format(i).zfill(length_string)\n",
    "        if binary_label not in counts:\n",
    "            counts[binary_label] = 0\n",
    "\n",
    "    # Convert the dictionary of measurements into a probability distribution.\n",
    "    output_distribution = [shots / num_shots for shots in counts.values()]\n",
    "        \n",
    "    return output_distribution\n",
    "\n",
    "backend = BasicAer.get_backend('qasm_simulator')\n",
    "\n",
    "sample_params = [[1,1,1], [1,1,1], [1,1]]\n",
    "%time output_distribution = measure_probability_distribution(parameters=sample_params, backend=backend, num_qubits=2, num_variables=2)\n",
    "plot_probability_distribution(output_distribution, title='Measured probability distribution')"
   ]
  }
 ],
 "metadata": {
  "kernelspec": {
   "display_name": "Python 3",
   "language": "python",
   "name": "python3"
  },
  "language_info": {
   "codemirror_mode": {
    "name": "ipython",
    "version": 3
   },
   "file_extension": ".py",
   "mimetype": "text/x-python",
   "name": "python",
   "nbconvert_exporter": "python",
   "pygments_lexer": "ipython3",
   "version": "3.11.6"
  }
 },
 "nbformat": 4,
 "nbformat_minor": 2
}
